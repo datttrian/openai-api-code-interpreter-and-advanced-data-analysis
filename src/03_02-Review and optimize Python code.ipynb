{
 "cells": [
  {
   "cell_type": "markdown",
   "id": "caa8cd98",
   "metadata": {},
   "source": [
    "# OpenAI API: Code Interpreter and Advanced Data Analysis\n",
    "## 03_02 - Review and optimize Python code"
   ]
  },
  {
   "cell_type": "markdown",
   "id": "b126d991",
   "metadata": {},
   "source": [
    "### Install the necessary libraries. "
   ]
  },
  {
   "cell_type": "code",
   "execution_count": 1,
   "id": "cbb7c175",
   "metadata": {},
   "outputs": [
    {
     "name": "stdout",
     "output_type": "stream",
     "text": [
      "Requirement already satisfied: openai in /usr/local/python/3.10.13/lib/python3.10/site-packages (1.23.6)\n",
      "Requirement already satisfied: anyio<5,>=3.5.0 in /home/codespace/.local/lib/python3.10/site-packages (from openai) (4.3.0)\n",
      "Requirement already satisfied: distro<2,>=1.7.0 in /usr/local/python/3.10.13/lib/python3.10/site-packages (from openai) (1.9.0)\n",
      "Requirement already satisfied: httpx<1,>=0.23.0 in /home/codespace/.local/lib/python3.10/site-packages (from openai) (0.27.0)\n",
      "Requirement already satisfied: pydantic<3,>=1.9.0 in /usr/local/python/3.10.13/lib/python3.10/site-packages (from openai) (2.7.1)\n",
      "Requirement already satisfied: sniffio in /home/codespace/.local/lib/python3.10/site-packages (from openai) (1.3.1)\n",
      "Requirement already satisfied: tqdm>4 in /usr/local/python/3.10.13/lib/python3.10/site-packages (from openai) (4.66.2)\n",
      "Requirement already satisfied: typing-extensions<5,>=4.7 in /home/codespace/.local/lib/python3.10/site-packages (from openai) (4.10.0)\n",
      "Requirement already satisfied: idna>=2.8 in /home/codespace/.local/lib/python3.10/site-packages (from anyio<5,>=3.5.0->openai) (3.6)\n",
      "Requirement already satisfied: exceptiongroup>=1.0.2 in /home/codespace/.local/lib/python3.10/site-packages (from anyio<5,>=3.5.0->openai) (1.2.0)\n",
      "Requirement already satisfied: certifi in /home/codespace/.local/lib/python3.10/site-packages (from httpx<1,>=0.23.0->openai) (2024.2.2)\n",
      "Requirement already satisfied: httpcore==1.* in /home/codespace/.local/lib/python3.10/site-packages (from httpx<1,>=0.23.0->openai) (1.0.5)\n",
      "Requirement already satisfied: h11<0.15,>=0.13 in /home/codespace/.local/lib/python3.10/site-packages (from httpcore==1.*->httpx<1,>=0.23.0->openai) (0.14.0)\n",
      "Requirement already satisfied: annotated-types>=0.4.0 in /usr/local/python/3.10.13/lib/python3.10/site-packages (from pydantic<3,>=1.9.0->openai) (0.6.0)\n",
      "Requirement already satisfied: pydantic-core==2.18.2 in /usr/local/python/3.10.13/lib/python3.10/site-packages (from pydantic<3,>=1.9.0->openai) (2.18.2)\n",
      "Note: you may need to restart the kernel to use updated packages.\n"
     ]
    }
   ],
   "source": [
    "pip install openai"
   ]
  },
  {
   "cell_type": "code",
   "execution_count": 2,
   "id": "bc699e7c",
   "metadata": {},
   "outputs": [
    {
     "name": "stdout",
     "output_type": "stream",
     "text": [
      "Requirement already satisfied: openai[datalib] in /usr/local/python/3.10.13/lib/python3.10/site-packages (1.23.6)\n",
      "Requirement already satisfied: anyio<5,>=3.5.0 in /home/codespace/.local/lib/python3.10/site-packages (from openai[datalib]) (4.3.0)\n",
      "Requirement already satisfied: distro<2,>=1.7.0 in /usr/local/python/3.10.13/lib/python3.10/site-packages (from openai[datalib]) (1.9.0)\n",
      "Requirement already satisfied: httpx<1,>=0.23.0 in /home/codespace/.local/lib/python3.10/site-packages (from openai[datalib]) (0.27.0)\n",
      "Requirement already satisfied: pydantic<3,>=1.9.0 in /usr/local/python/3.10.13/lib/python3.10/site-packages (from openai[datalib]) (2.7.1)\n",
      "Requirement already satisfied: sniffio in /home/codespace/.local/lib/python3.10/site-packages (from openai[datalib]) (1.3.1)\n",
      "Requirement already satisfied: tqdm>4 in /usr/local/python/3.10.13/lib/python3.10/site-packages (from openai[datalib]) (4.66.2)\n",
      "Requirement already satisfied: typing-extensions<5,>=4.7 in /home/codespace/.local/lib/python3.10/site-packages (from openai[datalib]) (4.10.0)\n",
      "Requirement already satisfied: numpy>=1 in /home/codespace/.local/lib/python3.10/site-packages (from openai[datalib]) (1.26.4)\n",
      "Requirement already satisfied: pandas-stubs>=1.1.0.11 in /usr/local/python/3.10.13/lib/python3.10/site-packages (from openai[datalib]) (2.2.1.240316)\n",
      "Requirement already satisfied: pandas>=1.2.3 in /home/codespace/.local/lib/python3.10/site-packages (from openai[datalib]) (2.2.1)\n",
      "Requirement already satisfied: idna>=2.8 in /home/codespace/.local/lib/python3.10/site-packages (from anyio<5,>=3.5.0->openai[datalib]) (3.6)\n",
      "Requirement already satisfied: exceptiongroup>=1.0.2 in /home/codespace/.local/lib/python3.10/site-packages (from anyio<5,>=3.5.0->openai[datalib]) (1.2.0)\n",
      "Requirement already satisfied: certifi in /home/codespace/.local/lib/python3.10/site-packages (from httpx<1,>=0.23.0->openai[datalib]) (2024.2.2)\n",
      "Requirement already satisfied: httpcore==1.* in /home/codespace/.local/lib/python3.10/site-packages (from httpx<1,>=0.23.0->openai[datalib]) (1.0.5)\n",
      "Requirement already satisfied: h11<0.15,>=0.13 in /home/codespace/.local/lib/python3.10/site-packages (from httpcore==1.*->httpx<1,>=0.23.0->openai[datalib]) (0.14.0)\n",
      "Requirement already satisfied: python-dateutil>=2.8.2 in /home/codespace/.local/lib/python3.10/site-packages (from pandas>=1.2.3->openai[datalib]) (2.9.0.post0)\n",
      "Requirement already satisfied: pytz>=2020.1 in /home/codespace/.local/lib/python3.10/site-packages (from pandas>=1.2.3->openai[datalib]) (2024.1)\n",
      "Requirement already satisfied: tzdata>=2022.7 in /home/codespace/.local/lib/python3.10/site-packages (from pandas>=1.2.3->openai[datalib]) (2024.1)\n",
      "Requirement already satisfied: types-pytz>=2022.1.1 in /usr/local/python/3.10.13/lib/python3.10/site-packages (from pandas-stubs>=1.1.0.11->openai[datalib]) (2024.1.0.20240417)\n",
      "Requirement already satisfied: annotated-types>=0.4.0 in /usr/local/python/3.10.13/lib/python3.10/site-packages (from pydantic<3,>=1.9.0->openai[datalib]) (0.6.0)\n",
      "Requirement already satisfied: pydantic-core==2.18.2 in /usr/local/python/3.10.13/lib/python3.10/site-packages (from pydantic<3,>=1.9.0->openai[datalib]) (2.18.2)\n",
      "Requirement already satisfied: six>=1.5 in /home/codespace/.local/lib/python3.10/site-packages (from python-dateutil>=2.8.2->pandas>=1.2.3->openai[datalib]) (1.16.0)\n",
      "Note: you may need to restart the kernel to use updated packages.\n"
     ]
    }
   ],
   "source": [
    "pip install openai[datalib]"
   ]
  },
  {
   "cell_type": "code",
   "execution_count": 3,
   "id": "c1615b50",
   "metadata": {},
   "outputs": [
    {
     "name": "stdout",
     "output_type": "stream",
     "text": [
      "Requirement already satisfied: urllib3==1.26.6 in /usr/local/python/3.10.13/lib/python3.10/site-packages (1.26.6)\n",
      "Note: you may need to restart the kernel to use updated packages.\n"
     ]
    }
   ],
   "source": [
    "pip install urllib3==1.26.6 "
   ]
  },
  {
   "cell_type": "code",
   "execution_count": 4,
   "id": "646f69d3",
   "metadata": {},
   "outputs": [
    {
     "name": "stdout",
     "output_type": "stream",
     "text": [
      "Requirement already satisfied: python-dotenv in /usr/local/python/3.10.13/lib/python3.10/site-packages (1.0.1)\n",
      "Note: you may need to restart the kernel to use updated packages.\n"
     ]
    }
   ],
   "source": [
    "pip install python-dotenv"
   ]
  },
  {
   "cell_type": "markdown",
   "id": "ee48e61b",
   "metadata": {},
   "source": [
    "### Import the libraries and environment file to gain access to the Open API Key\n",
    "#### The key can be generated here: https://platform.openai.com/account/api-keys"
   ]
  },
  {
   "cell_type": "code",
   "execution_count": 5,
   "id": "70841de5",
   "metadata": {},
   "outputs": [],
   "source": [
    "#import OS, OpenAI, and time modules\n",
    "import openai\n",
    "import os\n",
    "from openai import OpenAI\n",
    "import time\n",
    "\n",
    "from dotenv import load_dotenv, find_dotenv\n",
    "_ = load_dotenv(find_dotenv()) # read local .env file"
   ]
  },
  {
   "cell_type": "markdown",
   "id": "e5387008",
   "metadata": {},
   "source": [
    "### Authenticate to the API using the API Key\n",
    "#### Pull from environment variables or use api_key = (\"your_key_here\") to hardcode the key"
   ]
  },
  {
   "cell_type": "code",
   "execution_count": 6,
   "id": "7cf566e0",
   "metadata": {},
   "outputs": [],
   "source": [
    "client = OpenAI(\n",
    "  api_key=os.environ['OPENAI_API_KEY']  \n",
    ")"
   ]
  },
  {
   "cell_type": "markdown",
   "id": "1ef4193c",
   "metadata": {},
   "source": [
    "### Helper function to upload Python example files"
   ]
  },
  {
   "cell_type": "code",
   "execution_count": 7,
   "id": "8c7a8f50",
   "metadata": {},
   "outputs": [],
   "source": [
    "def upload_file(path):\n",
    "    try:\n",
    "        file = client.files.create(\n",
    "            file=open(path, \"rb\"),\n",
    "            purpose='assistants'\n",
    "        )\n",
    "        \n",
    "        return file.id\n",
    "    except Exception as e:\n",
    "        print(e)\n",
    "        return e"
   ]
  },
  {
   "cell_type": "markdown",
   "id": "5b982429",
   "metadata": {},
   "source": [
    "### Helper function to setup an Assistant\n",
    "#### The Assistant is a Coding Bot\n",
    "Code Interpreter allows the Assistants API to write and run Python code in a sandboxed execution environment."
   ]
  },
  {
   "cell_type": "code",
   "execution_count": 8,
   "id": "8c8e934c",
   "metadata": {},
   "outputs": [],
   "source": [
    "def create_assistant(file_id):\n",
    "    try:\n",
    "        assistant = client.beta.assistants.create(\n",
    "            name = \"Coding Bot\",\n",
    "            instructions='''Generate a file, always. You are an expert Python developer.\n",
    "                           You perform code review and optimization, including bug \n",
    "                           identification, code explanation, translation, and \n",
    "                           prediction of code outputs. When asked to review code, you\n",
    "                           also make the improved code available for download.''',\n",
    "            model=\"gpt-4-1106-preview\",\n",
    "            tools=[{\"type\": \"code_interpreter\"}],\n",
    "            file_ids=[file_id]\n",
    "        )\n",
    "        \n",
    "        return assistant.id\n",
    "    except openai.APIError as e:\n",
    "        print(e.http_status)\n",
    "        print(e.error)\n",
    "        return e.error "
   ]
  },
  {
   "cell_type": "markdown",
   "id": "f849998c",
   "metadata": {},
   "source": [
    "### Helper function to create a thread to query an Assistant"
   ]
  },
  {
   "cell_type": "code",
   "execution_count": 9,
   "id": "659c994f",
   "metadata": {},
   "outputs": [],
   "source": [
    "def query_assistant(assistant_id, user_query):\n",
    "    try:\n",
    "        thread = client.beta.threads.create(\n",
    "            messages=[\n",
    "                {\n",
    "                \"role\": \"user\",\n",
    "                \"content\": user_query\n",
    "                }\n",
    "            ]\n",
    "        )\n",
    "        \n",
    "        return thread.id\n",
    "    except openai.APIError as e:\n",
    "        print(e.http_status)\n",
    "        print(e.error)\n",
    "        return e.error"
   ]
  },
  {
   "cell_type": "markdown",
   "id": "f476d406",
   "metadata": {},
   "source": [
    "### Helper function to create a run object to execute the thread"
   ]
  },
  {
   "cell_type": "code",
   "execution_count": 10,
   "id": "8aca0ded",
   "metadata": {},
   "outputs": [],
   "source": [
    "def run(assistant_id, thread_id):\n",
    "    try:\n",
    "        run = client.beta.threads.runs.create(\n",
    "            thread_id=thread_id,\n",
    "            assistant_id=assistant_id\n",
    "        )\n",
    "        \n",
    "        time.sleep(10)\n",
    "        \n",
    "        while True:\n",
    "            print(f'{run.id=} {run.status=}')\n",
    "\n",
    "            run = client.beta.threads.runs.retrieve(\n",
    "                thread_id=thread_id,\n",
    "                run_id=run.id\n",
    "            )\n",
    "\n",
    "            status = run.status\n",
    "\n",
    "            if status == 'completed':\n",
    "                break\n",
    "            else:\n",
    "                time.sleep(10) \n",
    "\n",
    "        print(f'{run.id=} {run.status=}')\n",
    "        \n",
    "        #retrieve the messages \n",
    "        messages = client.beta.threads.messages.list(\n",
    "            thread_id=thread_id\n",
    "        )\n",
    "\n",
    "   \n",
    "        return messages\n",
    "        \n",
    "    except openai.APIError as e:\n",
    "        print(e.http_status)\n",
    "        print(e.error)\n",
    "        return e.error"
   ]
  },
  {
   "cell_type": "markdown",
   "id": "b648f6bc",
   "metadata": {},
   "source": [
    "### Read in the Python example file"
   ]
  },
  {
   "cell_type": "code",
   "execution_count": 11,
   "id": "57120e80",
   "metadata": {},
   "outputs": [
    {
     "name": "stdout",
     "output_type": "stream",
     "text": [
      "[Errno 2] No such file or directory: 'code_to_improve.py'\n",
      "[Errno 2] No such file or directory: 'code_to_improve.py'\n"
     ]
    }
   ],
   "source": [
    "file_id = upload_file('code_to_improve.py')\n",
    "\n",
    "print(file_id)"
   ]
  },
  {
   "cell_type": "markdown",
   "id": "c808e135",
   "metadata": {},
   "source": [
    "### Create a run object to execute the thread"
   ]
  },
  {
   "cell_type": "code",
   "execution_count": 12,
   "id": "24f4851f",
   "metadata": {},
   "outputs": [
    {
     "ename": "TypeError",
     "evalue": "Assistants.create() got an unexpected keyword argument 'file_ids'",
     "output_type": "error",
     "traceback": [
      "\u001b[0;31m---------------------------------------------------------------------------\u001b[0m",
      "\u001b[0;31mTypeError\u001b[0m                                 Traceback (most recent call last)",
      "Cell \u001b[0;32mIn[12], line 1\u001b[0m\n\u001b[0;32m----> 1\u001b[0m assistant_id \u001b[38;5;241m=\u001b[39m \u001b[43mcreate_assistant\u001b[49m\u001b[43m(\u001b[49m\u001b[43mfile_id\u001b[49m\u001b[43m)\u001b[49m\n",
      "Cell \u001b[0;32mIn[8], line 3\u001b[0m, in \u001b[0;36mcreate_assistant\u001b[0;34m(file_id)\u001b[0m\n\u001b[1;32m      1\u001b[0m \u001b[38;5;28;01mdef\u001b[39;00m \u001b[38;5;21mcreate_assistant\u001b[39m(file_id):\n\u001b[1;32m      2\u001b[0m     \u001b[38;5;28;01mtry\u001b[39;00m:\n\u001b[0;32m----> 3\u001b[0m         assistant \u001b[38;5;241m=\u001b[39m \u001b[43mclient\u001b[49m\u001b[38;5;241;43m.\u001b[39;49m\u001b[43mbeta\u001b[49m\u001b[38;5;241;43m.\u001b[39;49m\u001b[43massistants\u001b[49m\u001b[38;5;241;43m.\u001b[39;49m\u001b[43mcreate\u001b[49m\u001b[43m(\u001b[49m\n\u001b[1;32m      4\u001b[0m \u001b[43m            \u001b[49m\u001b[43mname\u001b[49m\u001b[43m \u001b[49m\u001b[38;5;241;43m=\u001b[39;49m\u001b[43m \u001b[49m\u001b[38;5;124;43m\"\u001b[39;49m\u001b[38;5;124;43mCoding Bot\u001b[39;49m\u001b[38;5;124;43m\"\u001b[39;49m\u001b[43m,\u001b[49m\n\u001b[1;32m      5\u001b[0m \u001b[43m            \u001b[49m\u001b[43minstructions\u001b[49m\u001b[38;5;241;43m=\u001b[39;49m\u001b[38;5;124;43m'''\u001b[39;49m\u001b[38;5;124;43mGenerate a file, always. You are an expert Python developer.\u001b[39;49m\n\u001b[1;32m      6\u001b[0m \u001b[38;5;124;43m                           You perform code review and optimization, including bug \u001b[39;49m\n\u001b[1;32m      7\u001b[0m \u001b[38;5;124;43m                           identification, code explanation, translation, and \u001b[39;49m\n\u001b[1;32m      8\u001b[0m \u001b[38;5;124;43m                           prediction of code outputs. When asked to review code, you\u001b[39;49m\n\u001b[1;32m      9\u001b[0m \u001b[38;5;124;43m                           also make the improved code available for download.\u001b[39;49m\u001b[38;5;124;43m'''\u001b[39;49m\u001b[43m,\u001b[49m\n\u001b[1;32m     10\u001b[0m \u001b[43m            \u001b[49m\u001b[43mmodel\u001b[49m\u001b[38;5;241;43m=\u001b[39;49m\u001b[38;5;124;43m\"\u001b[39;49m\u001b[38;5;124;43mgpt-4-1106-preview\u001b[39;49m\u001b[38;5;124;43m\"\u001b[39;49m\u001b[43m,\u001b[49m\n\u001b[1;32m     11\u001b[0m \u001b[43m            \u001b[49m\u001b[43mtools\u001b[49m\u001b[38;5;241;43m=\u001b[39;49m\u001b[43m[\u001b[49m\u001b[43m{\u001b[49m\u001b[38;5;124;43m\"\u001b[39;49m\u001b[38;5;124;43mtype\u001b[39;49m\u001b[38;5;124;43m\"\u001b[39;49m\u001b[43m:\u001b[49m\u001b[43m \u001b[49m\u001b[38;5;124;43m\"\u001b[39;49m\u001b[38;5;124;43mcode_interpreter\u001b[39;49m\u001b[38;5;124;43m\"\u001b[39;49m\u001b[43m}\u001b[49m\u001b[43m]\u001b[49m\u001b[43m,\u001b[49m\n\u001b[1;32m     12\u001b[0m \u001b[43m            \u001b[49m\u001b[43mfile_ids\u001b[49m\u001b[38;5;241;43m=\u001b[39;49m\u001b[43m[\u001b[49m\u001b[43mfile_id\u001b[49m\u001b[43m]\u001b[49m\n\u001b[1;32m     13\u001b[0m \u001b[43m        \u001b[49m\u001b[43m)\u001b[49m\n\u001b[1;32m     15\u001b[0m         \u001b[38;5;28;01mreturn\u001b[39;00m assistant\u001b[38;5;241m.\u001b[39mid\n\u001b[1;32m     16\u001b[0m     \u001b[38;5;28;01mexcept\u001b[39;00m openai\u001b[38;5;241m.\u001b[39mAPIError \u001b[38;5;28;01mas\u001b[39;00m e:\n",
      "\u001b[0;31mTypeError\u001b[0m: Assistants.create() got an unexpected keyword argument 'file_ids'"
     ]
    }
   ],
   "source": [
    "assistant_id = create_assistant(file_id)"
   ]
  },
  {
   "cell_type": "code",
   "execution_count": null,
   "id": "01dc3e60",
   "metadata": {},
   "outputs": [
    {
     "name": "stdout",
     "output_type": "stream",
     "text": [
      "asst_VydaDsJ5rYbl50w2muGVfRzV\n"
     ]
    }
   ],
   "source": [
    "print(assistant_id)"
   ]
  },
  {
   "cell_type": "code",
   "execution_count": null,
   "id": "8aa24161",
   "metadata": {},
   "outputs": [
    {
     "name": "stdout",
     "output_type": "stream",
     "text": [
      "thread_cajKzKluEut1jJWHmejx7YsQ\n"
     ]
    }
   ],
   "source": [
    "user_query = '''Can you improve, optimize, and remove bugs from this Python code? \n",
    "                Supply the improved Python code as a downloadable file. Also, explain \n",
    "                what the code is doing.'''\n",
    "\n",
    "thread_id = query_assistant(assistant_id, user_query)\n",
    "print(thread_id)"
   ]
  },
  {
   "cell_type": "code",
   "execution_count": null,
   "id": "c50ef3c2",
   "metadata": {},
   "outputs": [
    {
     "name": "stdout",
     "output_type": "stream",
     "text": [
      "run.id='run_rjg1Vzxiz9aJp2tmJJ9SarpF' run.status='queued'\n",
      "run.id='run_rjg1Vzxiz9aJp2tmJJ9SarpF' run.status='in_progress'\n",
      "run.id='run_rjg1Vzxiz9aJp2tmJJ9SarpF' run.status='in_progress'\n",
      "run.id='run_rjg1Vzxiz9aJp2tmJJ9SarpF' run.status='in_progress'\n",
      "run.id='run_rjg1Vzxiz9aJp2tmJJ9SarpF' run.status='in_progress'\n",
      "run.id='run_rjg1Vzxiz9aJp2tmJJ9SarpF' run.status='in_progress'\n",
      "run.id='run_rjg1Vzxiz9aJp2tmJJ9SarpF' run.status='completed'\n",
      "SyncCursorPage[ThreadMessage](data=[ThreadMessage(id='msg_ihbRo7HgwOQmaDipsN2jaiNR', assistant_id='asst_VydaDsJ5rYbl50w2muGVfRzV', content=[MessageContentText(text=Text(annotations=[TextAnnotationFilePath(end_index=1087, file_path=TextAnnotationFilePathFilePath(file_id='file-RDoHizmVwxPJ1bnvx4WR2M7e'), start_index=1040, text='sandbox:/mnt/data/improved_calculate_average.py', type='file_path')], value='The improved version of the code, which includes optimizations and added protections, has been saved as `improved_calculate_average.py`. The changes are:\\n\\n- Added type hints to the function signature for clarity.\\n- Used the built-in `sum()` function to calculate the sum of the number list.\\n- Checked for an empty list and returned `0.0` accordingly to avoid `ZeroDivisionError`. In real-world scenarios, you might want to handle the empty list case differently, such as raising an exception or informing the user that no average can be computed for an empty list.\\n- Placed the example usage code within an `if __name__ == \"__main__\":` guard so it won\\'t execute when the module is imported into other scripts.\\n- A try-except block was added to show how one could handle potential `ZeroDivisionError` exceptions if the check for an empty list was not in place. This is just for demonstration, as with the current implementation the error cannot occur.\\n\\nHere\\'s the link to download the improved code:\\n[Download improved_calculate_average.py](sandbox:/mnt/data/improved_calculate_average.py)\\n\\nIf you have specific requirements or additional context for handling empty lists or other edge cases, feel free to share them so the code can be adjusted accordingly.'), type='text')], created_at=1703206534, file_ids=['file-RDoHizmVwxPJ1bnvx4WR2M7e'], metadata={}, object='thread.message', role='assistant', run_id='run_rjg1Vzxiz9aJp2tmJJ9SarpF', thread_id='thread_cajKzKluEut1jJWHmejx7YsQ'), ThreadMessage(id='msg_vY3Vb1GvyaafsLdVmRuAnt0O', assistant_id='asst_VydaDsJ5rYbl50w2muGVfRzV', content=[MessageContentText(text=Text(annotations=[], value='The code provided defines a function `calculate_average` that calculates the average of a list of numbers. Here\\'s how it works:\\n\\n- It initializes `total_sum` to 0.\\n- It then iterates over each `number` in the provided list `numbers`, adding the value to `total_sum`.\\n- After the loop, it calculates the average by dividing `total_sum` by the number of elements in the list (found using `len(numbers)`).\\n- Finally, the function returns the calculated average.\\n\\nThere\\'s also an example usage of the `calculate_average` function where it calculates the average of a predefined list of numbers `[10, 20, 30, 40, 50]` and then prints the result.\\n\\nNow let\\'s consider potential improvements and optimizations:\\n- We could use the built-in `sum()` function to get the sum of the list instead of looping through the elements to calculate the total sum ourselves.\\n- Adding type hints might make the code clearer and assist with type checking.\\n- The calculation `average = total_sum / len(numbers)` may raise a `ZeroDivisionError` if the list is empty, so we should handle this case.\\n- The example usage could be protected within an `if __name__ == \"__main__\":` block to prevent it from running when the module is imported.\\n\\nI will write the improved code and provide it as a downloadable file. Implementing the changes, here is the improved code.'), type='text')], created_at=1703206499, file_ids=[], metadata={}, object='thread.message', role='assistant', run_id='run_rjg1Vzxiz9aJp2tmJJ9SarpF', thread_id='thread_cajKzKluEut1jJWHmejx7YsQ'), ThreadMessage(id='msg_EgZPftpvUmGy970APrd3eiE1', assistant_id='asst_VydaDsJ5rYbl50w2muGVfRzV', content=[MessageContentText(text=Text(annotations=[], value=\"Absolutely, I'd be happy to help you with that. First, I need to see the contents of the uploaded file to understand what the Python code is doing. I will start by opening the file and reviewing its content. Please bear with me for a moment.\"), type='text')], created_at=1703206490, file_ids=[], metadata={}, object='thread.message', role='assistant', run_id='run_rjg1Vzxiz9aJp2tmJJ9SarpF', thread_id='thread_cajKzKluEut1jJWHmejx7YsQ'), ThreadMessage(id='msg_o2H1Kbcs1OUfCbD8tjqeadVv', assistant_id=None, content=[MessageContentText(text=Text(annotations=[], value='Can you improve, optimize, and remove bugs from this Python code? \\n                Supply the improved Python code as a downloadable file. Also, explain \\n                what the code is doing.'), type='text')], created_at=1703206488, file_ids=[], metadata={}, object='thread.message', role='user', run_id=None, thread_id='thread_cajKzKluEut1jJWHmejx7YsQ')], object='list', first_id='msg_ihbRo7HgwOQmaDipsN2jaiNR', last_id='msg_o2H1Kbcs1OUfCbD8tjqeadVv', has_more=False)\n"
     ]
    }
   ],
   "source": [
    "messages = run(assistant_id, thread_id)\n",
    "print(messages)"
   ]
  },
  {
   "cell_type": "code",
   "execution_count": null,
   "id": "919e8a23",
   "metadata": {},
   "outputs": [
    {
     "name": "stdout",
     "output_type": "stream",
     "text": [
      "The improved version of the code, which includes optimizations and added protections, has been saved as `improved_calculate_average.py`. The changes are:\n",
      "\n",
      "- Added type hints to the function signature for clarity.\n",
      "- Used the built-in `sum()` function to calculate the sum of the number list.\n",
      "- Checked for an empty list and returned `0.0` accordingly to avoid `ZeroDivisionError`. In real-world scenarios, you might want to handle the empty list case differently, such as raising an exception or informing the user that no average can be computed for an empty list.\n",
      "- Placed the example usage code within an `if __name__ == \"__main__\":` guard so it won't execute when the module is imported into other scripts.\n",
      "- A try-except block was added to show how one could handle potential `ZeroDivisionError` exceptions if the check for an empty list was not in place. This is just for demonstration, as with the current implementation the error cannot occur.\n",
      "\n",
      "Here's the link to download the improved code:\n",
      "[Download improved_calculate_average.py](sandbox:/mnt/data/improved_calculate_average.py)\n",
      "\n",
      "If you have specific requirements or additional context for handling empty lists or other edge cases, feel free to share them so the code can be adjusted accordingly.\n",
      "The code provided defines a function `calculate_average` that calculates the average of a list of numbers. Here's how it works:\n",
      "\n",
      "- It initializes `total_sum` to 0.\n",
      "- It then iterates over each `number` in the provided list `numbers`, adding the value to `total_sum`.\n",
      "- After the loop, it calculates the average by dividing `total_sum` by the number of elements in the list (found using `len(numbers)`).\n",
      "- Finally, the function returns the calculated average.\n",
      "\n",
      "There's also an example usage of the `calculate_average` function where it calculates the average of a predefined list of numbers `[10, 20, 30, 40, 50]` and then prints the result.\n",
      "\n",
      "Now let's consider potential improvements and optimizations:\n",
      "- We could use the built-in `sum()` function to get the sum of the list instead of looping through the elements to calculate the total sum ourselves.\n",
      "- Adding type hints might make the code clearer and assist with type checking.\n",
      "- The calculation `average = total_sum / len(numbers)` may raise a `ZeroDivisionError` if the list is empty, so we should handle this case.\n",
      "- The example usage could be protected within an `if __name__ == \"__main__\":` block to prevent it from running when the module is imported.\n",
      "\n",
      "I will write the improved code and provide it as a downloadable file. Implementing the changes, here is the improved code.\n",
      "Absolutely, I'd be happy to help you with that. First, I need to see the contents of the uploaded file to understand what the Python code is doing. I will start by opening the file and reviewing its content. Please bear with me for a moment.\n",
      "Can you improve, optimize, and remove bugs from this Python code? \n",
      "                Supply the improved Python code as a downloadable file. Also, explain \n",
      "                what the code is doing.\n"
     ]
    }
   ],
   "source": [
    "#loop and print the messages out\n",
    "for thread_message in messages.data:\n",
    "    # Accessing the content array within each ThreadMessage\n",
    "    for content in thread_message.content:\n",
    "        # Checking if the content type is MessageContentText\n",
    "        if content.type == 'text':\n",
    "            # Accessing the text attribute of the MessageContentText\n",
    "            text_content = content.text.value\n",
    "            print(text_content)"
   ]
  },
  {
   "cell_type": "markdown",
   "id": "1e4e2bbd",
   "metadata": {},
   "source": [
    "### Download the Python code generated by Code Interpreter tool"
   ]
  },
  {
   "cell_type": "code",
   "execution_count": null,
   "id": "306e9dab",
   "metadata": {},
   "outputs": [
    {
     "name": "stdout",
     "output_type": "stream",
     "text": [
      "File ID: file-RDoHizmVwxPJ1bnvx4WR2M7e\n"
     ]
    }
   ],
   "source": [
    "# Assuming 'messages' is your provided data structure\n",
    "for thread_message in messages.data:\n",
    "    # Accessing the content array within each ThreadMessage\n",
    "    for content in thread_message.content:\n",
    "        # Checking if the content type is 'text'\n",
    "        if content.type == 'text':\n",
    "            # Accessing the annotations within the text content\n",
    "            for annotation in content.text.annotations:\n",
    "                # Checking for file_path type in annotations\n",
    "                if annotation.type == 'file_path':\n",
    "                    # Extracting the file_id\n",
    "                    file_id = annotation.file_path.file_id\n",
    "                    print(f\"File ID: {file_id}\")"
   ]
  },
  {
   "cell_type": "code",
   "execution_count": null,
   "id": "ecc13c12",
   "metadata": {},
   "outputs": [
    {
     "name": "stdout",
     "output_type": "stream",
     "text": [
      "File ID: file-RDoHizmVwxPJ1bnvx4WR2M7e, File Path: sandbox:/mnt/data/improved_calculate_average.py\n"
     ]
    }
   ],
   "source": [
    "for thread_message in messages.data:\n",
    "    # Accessing the content array within each ThreadMessage\n",
    "    for content in thread_message.content:\n",
    "        # Checking if the content type is 'text'\n",
    "        if content.type == 'text':\n",
    "            # Accessing the annotations within the text content\n",
    "            for annotation in content.text.annotations:\n",
    "                # Checking for file_path type in annotations\n",
    "                if annotation.type == 'file_path':\n",
    "                    # Extracting the file_id\n",
    "                    file_id = annotation.file_path.file_id\n",
    "                    # Extracting the file path\n",
    "                    file_path = annotation.text\n",
    "\n",
    "                    # Check if the file path contains '.png'\n",
    "                    if '.png' in file_path:\n",
    "                        image_file_id = file_id\n",
    "                        print(f\"File ID: {file_id}, File Path: {file_path}\")\n",
    "                    elif '.py' in file_path:\n",
    "                        code_file_id = file_id\n",
    "                        print(f\"File ID: {file_id}, File Path: {file_path}\")"
   ]
  },
  {
   "cell_type": "code",
   "execution_count": null,
   "id": "6858f143",
   "metadata": {},
   "outputs": [
    {
     "name": "stdout",
     "output_type": "stream",
     "text": [
      "file-RDoHizmVwxPJ1bnvx4WR2M7e\n"
     ]
    }
   ],
   "source": [
    "print(code_file_id)"
   ]
  },
  {
   "cell_type": "code",
   "execution_count": null,
   "id": "840bb6a0",
   "metadata": {},
   "outputs": [
    {
     "name": "stdout",
     "output_type": "stream",
     "text": [
      "<APIResponse [200 OK] type=<class 'str'>>\n"
     ]
    }
   ],
   "source": [
    "#get file name\n",
    "file_name = client.files.with_raw_response.retrieve_content(code_file_id) \n",
    "print(file_name)"
   ]
  },
  {
   "cell_type": "code",
   "execution_count": null,
   "id": "3a303f5c",
   "metadata": {},
   "outputs": [],
   "source": [
    "#download and save the file locally\n",
    "with open(\"./improved_code.py\", \"wb\") as file:  \n",
    "    file.write(file_name.content) "
   ]
  },
  {
   "cell_type": "markdown",
   "id": "40a1fb92",
   "metadata": {},
   "source": [
    "### Clean up Assistants\n",
    "Do not leave Assistants or files running for longer periods"
   ]
  },
  {
   "cell_type": "code",
   "execution_count": null,
   "id": "694c2f55",
   "metadata": {},
   "outputs": [
    {
     "data": {
      "text/plain": [
       "FileDeleted(id='file-RDoHizmVwxPJ1bnvx4WR2M7e', deleted=True, object='file')"
      ]
     },
     "execution_count": 103,
     "metadata": {},
     "output_type": "execute_result"
    }
   ],
   "source": [
    "client.files.delete(code_file_id)"
   ]
  },
  {
   "cell_type": "code",
   "execution_count": null,
   "id": "510a9a2c",
   "metadata": {},
   "outputs": [
    {
     "data": {
      "text/plain": [
       "AssistantDeleted(id='asst_VydaDsJ5rYbl50w2muGVfRzV', deleted=True, object='assistant.deleted')"
      ]
     },
     "execution_count": 104,
     "metadata": {},
     "output_type": "execute_result"
    }
   ],
   "source": [
    "client.beta.assistants.delete(assistant_id)"
   ]
  },
  {
   "cell_type": "code",
   "execution_count": null,
   "id": "be4283c5",
   "metadata": {},
   "outputs": [
    {
     "data": {
      "text/plain": [
       "ThreadDeleted(id='thread_cajKzKluEut1jJWHmejx7YsQ', deleted=True, object='thread.deleted')"
      ]
     },
     "execution_count": 105,
     "metadata": {},
     "output_type": "execute_result"
    }
   ],
   "source": [
    "client.beta.threads.delete(thread_id)"
   ]
  },
  {
   "cell_type": "code",
   "execution_count": null,
   "id": "55c69f88",
   "metadata": {},
   "outputs": [],
   "source": []
  }
 ],
 "metadata": {
  "kernelspec": {
   "display_name": "Python 3 (ipykernel)",
   "language": "python",
   "name": "python3"
  },
  "language_info": {
   "codemirror_mode": {
    "name": "ipython",
    "version": 3
   },
   "file_extension": ".py",
   "mimetype": "text/x-python",
   "name": "python",
   "nbconvert_exporter": "python",
   "pygments_lexer": "ipython3",
   "version": "3.10.13"
  }
 },
 "nbformat": 4,
 "nbformat_minor": 5
}
